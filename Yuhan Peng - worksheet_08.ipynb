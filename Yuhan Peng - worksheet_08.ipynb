{
 "cells": [
  {
   "attachments": {},
   "cell_type": "markdown",
   "metadata": {},
   "source": [
    "# Worksheet 08\n",
    "\n",
    "Name: Yuhan Peng<br>\n",
    "UID: U25596256\n",
    "\n",
    "### Topics\n",
    "\n",
    "- Soft Clustering\n",
    "- Clustering Aggregation\n",
    "\n",
    "### Probability Review\n",
    "\n",
    "Read through [the following](https://medium.com/@gallettilance/overview-of-probability-3272b72c82c8)\n",
    "\n",
    "Trying to figure out what species does this dianasour belong to based on its weight. To do that we need:\n",
    "\n",
    "$Baye's Rule: Pr(S_i | X_j) = \\frac{P(X_i|S_j)P(S_j)}{P(X_i)}$\n",
    "\n",
    "* $P(S_j)$ is the prior probability of seeing species $S_j$ (that probability would be higher for the Stegosauruses than the Raptors for example). \n",
    "* $P(X_i | S_j)$ is the **PDF** of species $S_j$ weights evaluated at weight $X_i$ (seeing a Sauropod that weighs 100 tons is way more likely than seeing a Raptor that weighs 100 tons)\n",
    "\n",
    "Note: These formulas come from Ruihang Liu's worksheet.\n",
    "\n",
    "\n",
    "### Soft Clustering\n",
    "\n",
    "We generate 10 data points that come from a normal distribution with mean 5 and variance 1."
   ]
  },
  {
   "cell_type": "code",
   "execution_count": 2,
   "metadata": {},
   "outputs": [
    {
     "name": "stdout",
     "output_type": "stream",
     "text": [
      "[6.142596166438217, 4.080693767380976, 4.510818065225095, 5.400223333821687, 5.050837380039832, 4.185496236270702, 4.583779789938133, 4.281479559679448, 5.26396992356933, 5.651625530322781]\n"
     ]
    }
   ],
   "source": [
    "import random\n",
    "import numpy as np\n",
    "from sklearn.cluster import KMeans\n",
    "\n",
    "mean = 5\n",
    "stdev = 1\n",
    "\n",
    "s1 = np.random.normal(mean, stdev, 10).tolist()\n",
    "print(s1)"
   ]
  },
  {
   "cell_type": "markdown",
   "metadata": {},
   "source": [
    "a) Generate 10 more data points, this time coming from a normal distribution with mean 8 and variance 1."
   ]
  },
  {
   "cell_type": "code",
   "execution_count": 3,
   "metadata": {},
   "outputs": [
    {
     "name": "stdout",
     "output_type": "stream",
     "text": [
      "[8.576001202720143, 7.215316739681634, 7.816910613569704, 6.921175371130851, 6.736710593953319, 9.916472774161534, 9.138847981168396, 7.334614346760117, 7.350072909231527, 8.522899967750941]\n"
     ]
    }
   ],
   "source": [
    "new_mean = 8\n",
    "new_stdev = 1\n",
    "\n",
    "s2 = np.random.normal( new_mean , new_stdev , 10 ).tolist()\n",
    "print(s2)"
   ]
  },
  {
   "cell_type": "markdown",
   "metadata": {},
   "source": [
    "b) Flip a fair coin 10 times. If the coin lands on H, then pick the last data point of `c1` and remove it from `c1`, if T then pick the last data point from `c2` and remove it from `c2`. Add these 10 points to a list called `data`."
   ]
  },
  {
   "cell_type": "code",
   "execution_count": 4,
   "metadata": {},
   "outputs": [
    {
     "name": "stdout",
     "output_type": "stream",
     "text": [
      "[5.651625530322781, 8.522899967750941, 5.26396992356933, 4.281479559679448, 7.350072909231527, 7.334614346760117, 9.138847981168396, 9.916472774161534, 4.583779789938133, 6.736710593953319]\n"
     ]
    }
   ],
   "source": [
    "data = []\n",
    "for i in range(10):\n",
    "    # flip coin\n",
    "    coin_output = random.choice([0, 1])\n",
    "    if coin_output == 0:\n",
    "        p1 = s1.pop()\n",
    "        data.append(p1)\n",
    "    else:\n",
    "        p2 = s2.pop()\n",
    "        data.append(p2)\n",
    "print(data)"
   ]
  },
  {
   "cell_type": "markdown",
   "metadata": {},
   "source": [
    "c) This `data` is a Gaussian Mixture Distribution with 2 mixture components. Over the next few questions we will walk through the GMM algorithm to see if we can uncover the parameters we used to generate this data. First, please list all these parameters of the GMM that created `data` and the values we know they have."
   ]
  },
  {
   "cell_type": "markdown",
   "metadata": {},
   "source": [
    "Means and variances. "
   ]
  },
  {
   "cell_type": "markdown",
   "metadata": {},
   "source": [
    "d) Let's assume there are two mixture components (note: we could plot the data and make the observation that there are two clusters). The EM algorithm asks us to start with a random `mean_j`, `variance_j`, `P(S_j)` for each component j. One method we could use to find sensible values for these is to apply K means with k=2 here.\n",
    "\n",
    "1. the centroids would be the estimates of the `mean_j`\n",
    "2. the intra-cluster variance could be the estimate of `variance_j`\n",
    "3. the proportion of points in each cluster could be the estimate of `P(S_j)`\n",
    "\n",
    "Go through this process and list the parameter estimates it gives. Are they close or far from the true values?"
   ]
  },
  {
   "cell_type": "code",
   "execution_count": 9,
   "metadata": {},
   "outputs": [
    {
     "name": "stderr",
     "output_type": "stream",
     "text": [
      "c:\\Users\\Yuhan\\anaconda3\\Lib\\site-packages\\sklearn\\cluster\\_kmeans.py:1412: FutureWarning: The default value of `n_init` will change from 10 to 'auto' in 1.4. Set the value of `n_init` explicitly to suppress the warning\n",
      "  super()._check_params_vs_input(X, default_n_init=10)\n",
      "c:\\Users\\Yuhan\\anaconda3\\Lib\\site-packages\\sklearn\\cluster\\_kmeans.py:1436: UserWarning: KMeans is known to have a memory leak on Windows with MKL, when there are less chunks than available threads. You can avoid it by setting the environment variable OMP_NUM_THREADS=1.\n",
      "  warnings.warn(\n"
     ]
    },
    {
     "name": "stdout",
     "output_type": "stream",
     "text": [
      "[5.651625530322781, 5.26396992356933, 4.281479559679448, 4.583779789938133]\n",
      "[5.651625530322781, 5.26396992356933, 4.281479559679448, 4.583779789938133]\n",
      "P(S_1) = 0.5,  P(S_2) = 0.5\n",
      "mean_1 = 4.9452137008774235,  mean_2 = 4.9452137008774235\n",
      "var_1 = 0.29295017111345867,  var_2 = 0.29295017111345867\n"
     ]
    }
   ],
   "source": [
    "kmeans = KMeans(2, init='k-means++').fit(X=np.array(data).reshape(-1, 1))\n",
    "\n",
    "s1 = [x[0] for x in filter(lambda x: x[1] == 0, zip(data, kmeans.labels_))]\n",
    "print(s1)\n",
    "s2 = [x[0] for x in filter(lambda x: x[1] == 0, zip(data, kmeans.labels_))]\n",
    "print(s2)\n",
    "\n",
    "prob_s = [ len(s1) / (len(s1) + len(s2)) , len(s2) / (len(s1) + len(s2)) ]\n",
    "mean = [ sum(s1)/len(s1) , sum(s2)/len(s2) ]\n",
    "var = [ sum(map(lambda x : (x - mean[0])**2, s1)) / len(s1) , sum(map(lambda x : (x - mean[0])**2, s2)) / len(s2) ]\n",
    "\n",
    "print(\"P(S_1) = \" + str(prob_s[0]) + \",  P(S_2) = \" + str(prob_s[1]))\n",
    "print(\"mean_1 = \" + str(mean[0]) + \",  mean_2 = \" + str(mean[1]))\n",
    "print(\"var_1 = \" + str(var[0]) + \",  var_2 = \" + str(var[1]))"
   ]
  },
  {
   "cell_type": "markdown",
   "metadata": {},
   "source": []
  },
  {
   "cell_type": "markdown",
   "metadata": {},
   "source": [
    "e) For each data point, compute `P(S_j | X_i)`. Comment on which cluster you think each point belongs to based on the estimated probabilities. How does that compare to the truth?"
   ]
  },
  {
   "cell_type": "code",
   "execution_count": 10,
   "metadata": {},
   "outputs": [
    {
     "name": "stdout",
     "output_type": "stream",
     "text": [
      "point =  5.651625530322781\n",
      "probability of observing that point if it came from cluster 0 =  0.07438186190376563\n",
      "probability of observing that point if it came from cluster 1 =  0.07438186190376563\n",
      "point =  8.522899967750941\n",
      "probability of observing that point if it came from cluster 0 =  5.5856317527420656e-33\n",
      "probability of observing that point if it came from cluster 1 =  5.5856317527420656e-33\n",
      "point =  5.26396992356933\n",
      "probability of observing that point if it came from cluster 0 =  0.7534022689623214\n",
      "probability of observing that point if it came from cluster 1 =  0.7534022689623214\n",
      "point =  4.281479559679448\n",
      "probability of observing that point if it came from cluster 0 =  0.10457399714297193\n",
      "probability of observing that point if it came from cluster 1 =  0.10457399714297193\n",
      "point =  7.350072909231527\n",
      "probability of observing that point if it came from cluster 0 =  3.167283623636049e-15\n",
      "probability of observing that point if it came from cluster 1 =  3.167283623636049e-15\n",
      "point =  7.334614346760117\n",
      "probability of observing that point if it came from cluster 0 =  4.8776566177195825e-15\n",
      "probability of observing that point if it came from cluster 1 =  4.8776566177195825e-15\n",
      "point =  9.138847981168396\n",
      "probability of observing that point if it came from cluster 0 =  4.318730637821371e-45\n",
      "probability of observing that point if it came from cluster 1 =  4.318730637821371e-45\n",
      "point =  9.916472774161534\n",
      "probability of observing that point if it came from cluster 0 =  4.004131044162384e-63\n",
      "probability of observing that point if it came from cluster 1 =  4.004131044162384e-63\n",
      "point =  4.583779789938133\n",
      "probability of observing that point if it came from cluster 0 =  0.6361739360268608\n",
      "probability of observing that point if it came from cluster 1 =  0.6361739360268608\n",
      "point =  6.736710593953319\n",
      "probability of observing that point if it came from cluster 0 =  1.0311320834378583e-08\n",
      "probability of observing that point if it came from cluster 1 =  1.0311320834378583e-08\n",
      "5.651625530322781\n",
      "Probability of coming from S_1 = 0.5\n",
      "Probability of coming from S_2 = 0.5\n",
      "\n",
      "8.522899967750941\n",
      "Probability of coming from S_1 = 0.5\n",
      "Probability of coming from S_2 = 0.5\n",
      "\n",
      "5.26396992356933\n",
      "Probability of coming from S_1 = 0.5\n",
      "Probability of coming from S_2 = 0.5\n",
      "\n",
      "4.281479559679448\n",
      "Probability of coming from S_1 = 0.5\n",
      "Probability of coming from S_2 = 0.5\n",
      "\n",
      "7.350072909231527\n",
      "Probability of coming from S_1 = 0.5\n",
      "Probability of coming from S_2 = 0.5\n",
      "\n",
      "7.334614346760117\n",
      "Probability of coming from S_1 = 0.5\n",
      "Probability of coming from S_2 = 0.5\n",
      "\n",
      "9.138847981168396\n",
      "Probability of coming from S_1 = 0.5\n",
      "Probability of coming from S_2 = 0.5\n",
      "\n",
      "9.916472774161534\n",
      "Probability of coming from S_1 = 0.5\n",
      "Probability of coming from S_2 = 0.5\n",
      "\n",
      "4.583779789938133\n",
      "Probability of coming from S_1 = 0.5\n",
      "Probability of coming from S_2 = 0.5\n",
      "\n",
      "6.736710593953319\n",
      "Probability of coming from S_1 = 0.5\n",
      "Probability of coming from S_2 = 0.5\n",
      "\n"
     ]
    }
   ],
   "source": [
    "from scipy.stats import norm\n",
    "\n",
    "prob_s0_x = [] # P(S_0 | X_i)\n",
    "prob_s1_x = [] # P(S_1 | X_i)\n",
    "prob_x = [] # P(X_i)\n",
    "\n",
    "k = 2\n",
    "\n",
    "for p in data:\n",
    "    print(\"point = \", p)\n",
    "    pdf_i = []\n",
    "\n",
    "    for j in range(k):\n",
    "        # P(X_i | S_j)\n",
    "        pdf_i.append(norm.pdf(p, mean[j], var[j]))\n",
    "        print(\"probability of observing that point if it came from cluster \" + str(j) + \" = \", pdf_i[j])\n",
    "        # P(S_j) already computed\n",
    "        prob_s[j]\n",
    "\n",
    "    # P(X_i) = P(S_0)P(X_i | S_0) + P(S_1)P(X_i | S_1)\n",
    "    prob_x = prob_s[0] * pdf_i[0] + prob_s[1] * pdf_i[1]\n",
    "\n",
    "    # P(S_j | X_i) = P(X_i | S_j)P(S_j) / P(X_i)\n",
    "    prob_s0_x.append(pdf_i[0] * prob_s[0] / prob_x)\n",
    "    prob_s1_x.append(pdf_i[1] * prob_s[1] / prob_x)\n",
    "\n",
    "probs = zip(data, prob_s0_x, prob_s1_x)\n",
    "for p in probs:\n",
    "    print(p[0])\n",
    "    print(\"Probability of coming from S_1 = \" + str(p[1]))\n",
    "    print(\"Probability of coming from S_2 = \" + str(p[2]))\n",
    "    print()\n"
   ]
  },
  {
   "cell_type": "markdown",
   "metadata": {},
   "source": [
    "f) Having computed `P(S_j | X_i)`, update the estimates of `mean_j`, `var_j`, and `P(S_j)`. How different are these values from the original ones you got from K means? briefly comment."
   ]
  },
  {
   "cell_type": "code",
   "execution_count": 14,
   "metadata": {},
   "outputs": [
    {
     "name": "stdout",
     "output_type": "stream",
     "text": [
      "P(S_1) = 0.5,  P(S_2) = 0.5\n",
      "mean_1 = 6.878047337653553,  mean_2 = 6.878047337653553\n",
      "var_1 = 203.3974392067478,  var_2 = 16.807605330544373\n"
     ]
    }
   ],
   "source": [
    "prob_c = [sum(prob_s0_x)/ len(prob_s0_x), sum(prob_s1_x)/ len(prob_s1_x) ]\n",
    "mean = [sum([x[0] * x[1] for x in zip(prob_s0_x, data)]) / sum(prob_s0_x), sum([x[0] * x[1] for x in zip(prob_s1_x, data)]) / sum(prob_s1_x) ]\n",
    "var = [sum([x[0] * (x[0] - mean[0]) ** 2 for x in zip(prob_s0_x, data)]), sum([x[0] * (x[1] - mean[1]) ** 2 for x in zip(prob_s1_x, data)]) ]\n",
    "\n",
    "print(\"P(S_1) = \" + str(prob_s[0]) + \",  P(S_2) = \" + str(prob_s[1]))\n",
    "print(\"mean_1 = \" + str(mean[0]) + \",  mean_2 = \" + str(mean[1]))\n",
    "print(\"var_1 = \" + str(var[0]) + \",  var_2 = \" + str(var[1]))"
   ]
  },
  {
   "cell_type": "markdown",
   "metadata": {},
   "source": []
  },
  {
   "cell_type": "markdown",
   "metadata": {},
   "source": [
    "g) Update `P(S_j | X_i)`. Comment on any differences or lack thereof you observe."
   ]
  },
  {
   "cell_type": "code",
   "execution_count": 15,
   "metadata": {},
   "outputs": [
    {
     "name": "stdout",
     "output_type": "stream",
     "text": [
      "point =  5.651625530322781\n",
      "probability of observing that point if it came from cluster 0 =  0.001961357182464156\n",
      "probability of observing that point if it came from cluster 1 =  0.023672714066689273\n",
      "point =  8.522899967750941\n",
      "probability of observing that point if it came from cluster 0 =  0.0019613287030564646\n",
      "probability of observing that point if it came from cluster 1 =  0.023622428531817292\n",
      "point =  5.26396992356933\n",
      "probability of observing that point if it came from cluster 0 =  0.0019613310804760605\n",
      "probability of observing that point if it came from cluster 1 =  0.023626622233755334\n",
      "point =  4.281479559679448\n",
      "probability of observing that point if it came from cluster 0 =  0.0019612330195380606\n",
      "probability of observing that point if it came from cluster 1 =  0.023454257702252516\n",
      "point =  7.350072909231527\n",
      "probability of observing that point if it came from cluster 0 =  0.001961387555674966\n",
      "probability of observing that point if it came from cluster 1 =  0.02372646060875609\n",
      "point =  7.334614346760117\n",
      "probability of observing that point if it came from cluster 0 =  0.0019613878959552685\n",
      "probability of observing that point if it came from cluster 1 =  0.023727063433555396\n",
      "point =  9.138847981168396\n",
      "probability of observing that point if it came from cluster 0 =  0.0019612716786389134\n",
      "probability of observing that point if it came from cluster 1 =  0.023522060283369985\n",
      "point =  9.916472774161534\n",
      "probability of observing that point if it came from cluster 0 =  0.001961174002489183\n",
      "probability of observing that point if it came from cluster 1 =  0.023351124334094104\n",
      "point =  4.583779789938133\n",
      "probability of observing that point if it came from cluster 0 =  0.0019612680651491968\n",
      "probability of observing that point if it came from cluster 1 =  0.023515714496019302\n",
      "point =  6.736710593953319\n",
      "probability of observing that point if it came from cluster 0 =  0.0019613923638426246\n",
      "probability of observing that point if it came from cluster 1 =  0.023734979946757554\n",
      "5.651625530322781\n",
      "Probability of coming from S_1 = 0.07651368225517163\n",
      "Probability of coming from S_2 = 0.9234863177448284\n",
      "\n",
      "8.522899967750941\n",
      "Probability of coming from S_1 = 0.07666304386217894\n",
      "Probability of coming from S_2 = 0.9233369561378211\n",
      "\n",
      "5.26396992356933\n",
      "Probability of coming from S_1 = 0.07665056506825875\n",
      "Probability of coming from S_2 = 0.9233494349317413\n",
      "\n",
      "4.281479559679448\n",
      "Probability of coming from S_1 = 0.07716683659609809\n",
      "Probability of coming from S_2 = 0.9228331634039019\n",
      "\n",
      "7.350072909231527\n",
      "Probability of coming from S_1 = 0.07635468502927471\n",
      "Probability of coming from S_2 = 0.9236453149707252\n",
      "\n",
      "7.334614346760117\n",
      "Probability of coming from S_1 = 0.07635290546698094\n",
      "Probability of coming from S_2 = 0.9236470945330191\n",
      "\n",
      "9.138847981168396\n",
      "Probability of coming from S_1 = 0.07696292155055781\n",
      "Probability of coming from S_2 = 0.9230370784494422\n",
      "\n",
      "9.916472774161534\n",
      "Probability of coming from S_1 = 0.0774790963827549\n",
      "Probability of coming from S_2 = 0.9225209036172451\n",
      "\n",
      "4.583779789938133\n",
      "Probability of coming from S_1 = 0.07698196049867075\n",
      "Probability of coming from S_2 = 0.9230180395013292\n",
      "\n",
      "6.736710593953319\n",
      "Probability of coming from S_1 = 0.07632954333532589\n",
      "Probability of coming from S_2 = 0.9236704566646741\n",
      "\n"
     ]
    }
   ],
   "source": [
    "prob_s0_x = [] # P(S_0 | X_i)\n",
    "prob_s1_x = [] # P(S_1 | X_i)\n",
    "prob_x = [] # P(X_i)\n",
    "\n",
    "k = 2\n",
    "\n",
    "for p in data:\n",
    "    print(\"point = \", p)\n",
    "    pdf_i = []\n",
    "\n",
    "    for j in range(k):\n",
    "        # P(X_i | C_j)\n",
    "        pdf_i.append(norm.pdf(p, mean[j], var[j]))\n",
    "        print(\"probability of observing that point if it came from cluster \" + str(j) + \" = \", pdf_i[j])\n",
    "        # P(S_j) already computed\n",
    "        prob_s[j]\n",
    "\n",
    "    # P(X_i) = P(C_0)P(X_i | C_0) + P(C_1)P(X_i | C_1)\n",
    "    prob_x = prob_s[0] * pdf_i[0] + prob_s[1] * pdf_i[1]\n",
    "\n",
    "    # P(S_j | X_i) = P(X_i | S_j)P(S_j) / P(X_i)\n",
    "    prob_s0_x.append(pdf_i[0] * prob_s[0] / prob_x )\n",
    "    prob_s1_x.append(pdf_i[1] * prob_s[1] / prob_x )\n",
    "\n",
    "probs = zip(data, prob_s0_x, prob_s1_x)\n",
    "for p in probs:\n",
    "    print(p[0])\n",
    "    print(\"Probability of coming from S_1 = \" + str(p[1]))\n",
    "    print(\"Probability of coming from S_2 = \" + str(p[2]))\n",
    "    print()\n"
   ]
  },
  {
   "cell_type": "markdown",
   "metadata": {},
   "source": []
  },
  {
   "cell_type": "markdown",
   "metadata": {},
   "source": [
    "h) Use `P(S_j | X_i)` to create a hard assignment - label each point as belonging to a specific cluster (0 or 1)"
   ]
  },
  {
   "cell_type": "code",
   "execution_count": 16,
   "metadata": {},
   "outputs": [
    {
     "name": "stdout",
     "output_type": "stream",
     "text": [
      "points in cluster 0 : []\n",
      "points in cluster 1 : [5.651625530322781, 8.522899967750941, 5.26396992356933, 4.281479559679448, 7.350072909231527, 7.334614346760117, 9.138847981168396, 9.916472774161534, 4.583779789938133, 6.736710593953319]\n"
     ]
    }
   ],
   "source": [
    "assignments = [[], []]\n",
    "for x in zip(data, prob_s0_x):\n",
    "    p = x[1]\n",
    "    d = x[0]\n",
    "    if random.random() <= p:\n",
    "        assignments[0].append(d)\n",
    "    else:\n",
    "        assignments[1].append(d)\n",
    "print(f\"points in cluster 0 : {assignments[0]}\\npoints in cluster 1 : {assignments[1]}\")"
   ]
  }
 ],
 "metadata": {
  "kernelspec": {
   "display_name": "Python 3",
   "language": "python",
   "name": "python3"
  },
  "language_info": {
   "codemirror_mode": {
    "name": "ipython",
    "version": 3
   },
   "file_extension": ".py",
   "mimetype": "text/x-python",
   "name": "python",
   "nbconvert_exporter": "python",
   "pygments_lexer": "ipython3",
   "version": "3.11.4"
  },
  "orig_nbformat": 4,
  "vscode": {
   "interpreter": {
    "hash": "e7370f93d1d0cde622a1f8e1c04877d8463912d04d973331ad4851f04de6915a"
   }
  }
 },
 "nbformat": 4,
 "nbformat_minor": 2
}
